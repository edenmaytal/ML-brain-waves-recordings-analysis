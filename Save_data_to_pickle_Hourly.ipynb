{
 "cells": [
  {
   "cell_type": "code",
   "execution_count": 1,
   "id": "510229f0",
   "metadata": {},
   "outputs": [],
   "source": [
    "import pickle\n",
    "import matlab.engine\n",
    "import numpy as np\n",
    "import matplotlib.pyplot as plt\n",
    "import scipy\n",
    "from scipy import signal\n",
    "import pickle"
   ]
  },
  {
   "cell_type": "code",
   "execution_count": 2,
   "id": "dd440375",
   "metadata": {},
   "outputs": [
    {
     "name": "stdout",
     "output_type": "stream",
     "text": [
      "/home/yandex/BrainW2021/projects/ML_Ofir_Eden_Eden/NET/timeSeriesViewer/dataRecordingObjects\n"
     ]
    }
   ],
   "source": [
    "cd \"/home/yandex/BrainW2021/projects/ML_Ofir_Eden_Eden/NET/timeSeriesViewer/dataRecordingObjects/\""
   ]
  },
  {
   "cell_type": "code",
   "execution_count": 3,
   "id": "c699fb77",
   "metadata": {},
   "outputs": [],
   "source": [
    "# stat the matlab engine & get data into python object\n",
    "eng = matlab.engine.start_matlab() #the engine is set to the current path\n",
    "bin_fullpath = r'/home/yandex/BrainW2021/projects/ML_Ofir_Eden_Eden/Data/newData/ch33_64.bin' \n",
    "# bin_fullpath = r'/home/yandex/BrainW2021/projects/ML_Ofir_Eden_Eden/Data/experiment1_109.raw.bin' #NOTE: meta file shoud be with the bin file at the same folder\n",
    "bin_obj = eng.binaryRecording(bin_fullpath) #NOTE- if fail - make sure you created eng in the rigיt path"
   ]
  },
  {
   "cell_type": "code",
   "execution_count": 9,
   "id": "ceab1c13",
   "metadata": {},
   "outputs": [],
   "source": [
    "time_start_hours = 6\n",
    "time_start_ms = time_start_hours * 60.0 * 60 * 1000\n",
    "startTime_ms = matlab.double([time_start_ms]) #crate a matlab array (numbers should be doubles)\n",
    "channels = matlab.double(range(1,2))\n",
    "time_window_hours = 1\n",
    "time_window_ms = time_window_hours * 60.0 * 60 * 1000\n",
    "matlab_mat_data = eng.getData(bin_obj, channels, startTime_ms, time_window_ms)\n",
    "py_mat = np.array(matlab_mat_data) #convert the result to python object"
   ]
  },
  {
   "cell_type": "code",
   "execution_count": 10,
   "id": "b5b32bc6",
   "metadata": {},
   "outputs": [],
   "source": [
    "# save data to pickle\n",
    "pc_pymat = py_mat[0][0]\n",
    "filename = '/home/yandex/BrainW2021/projects/ML_Ofir_Eden_Eden/Data/pickel_files/rec2/Hour6'\n",
    "outfile = open(filename,'wb')\n",
    "pickle.dump(pc_pymat,outfile)\n",
    "outfile.close()"
   ]
  },
  {
   "cell_type": "code",
   "execution_count": 4,
   "id": "3678156a",
   "metadata": {},
   "outputs": [],
   "source": [
    "path = '/home/yandex/BrainW2021/projects/ML_Ofir_Eden_Eden/Data/pickel_files'\n",
    "def data_to_pickle(hour):\n",
    "    time_start_hours = hour\n",
    "    time_start_ms = time_start_hours * 60.0 * 60 * 1000\n",
    "    startTime_ms = matlab.double([time_start_ms]) #crate a matlab array (numbers should be doubles)\n",
    "    channels = matlab.double(range(1,2))\n",
    "    time_window_hours = 1\n",
    "    time_window_ms = time_window_hours * 60.0 * 60 * 1000\n",
    "    matlab_mat_data = eng.getData(bin_obj, channels, startTime_ms, time_window_ms)\n",
    "    py_mat = np.array(matlab_mat_data) #convert the result to python object\n",
    "    \n",
    "    # save data to pickle\n",
    "    pc_pymat = py_mat[0][0]\n",
    "    filename = path + '/rec2/Hour' + str(hour)\n",
    "    outfile = open(filename,'wb')\n",
    "    pickle.dump(pc_pymat,outfile)\n",
    "    outfile.close()"
   ]
  },
  {
   "cell_type": "code",
   "execution_count": 5,
   "id": "714ae869",
   "metadata": {},
   "outputs": [
    {
     "name": "stdout",
     "output_type": "stream",
     "text": [
      "0\n",
      "1\n",
      "2\n",
      "3\n",
      "4\n",
      "5\n",
      "6\n",
      "7\n",
      "8\n",
      "9\n",
      "10\n",
      "11\n",
      "12\n",
      "13\n",
      "14\n",
      "15\n",
      "16\n",
      "17\n",
      "18\n"
     ]
    },
    {
     "ename": "MatlabExecutionError",
     "evalue": "\n  File /home/yandex/BrainW2021/projects/ML_Ofir_Eden_Eden/NET/timeSeriesViewer/dataRecordingObjects/@binaryRecording/binaryRecording.m, line 82, in binaryRecording.getData\nUnable to perform assignment because the size of the left side is 1-by-1-by-17604096 and the size of the right side is 32-by-17604096.\n",
     "output_type": "error",
     "traceback": [
      "\u001b[0;31m---------------------------------------------------------------------------\u001b[0m",
      "\u001b[0;31mMatlabExecutionError\u001b[0m                      Traceback (most recent call last)",
      "\u001b[0;32m<ipython-input-5-d544427abab3>\u001b[0m in \u001b[0;36m<module>\u001b[0;34m\u001b[0m\n\u001b[1;32m      1\u001b[0m \u001b[0;32mfor\u001b[0m \u001b[0mi\u001b[0m \u001b[0;32min\u001b[0m \u001b[0mrange\u001b[0m\u001b[0;34m(\u001b[0m\u001b[0;36m30\u001b[0m\u001b[0;34m)\u001b[0m\u001b[0;34m:\u001b[0m\u001b[0;34m\u001b[0m\u001b[0;34m\u001b[0m\u001b[0m\n\u001b[1;32m      2\u001b[0m     \u001b[0mprint\u001b[0m\u001b[0;34m(\u001b[0m\u001b[0mi\u001b[0m\u001b[0;34m)\u001b[0m\u001b[0;34m\u001b[0m\u001b[0;34m\u001b[0m\u001b[0m\n\u001b[0;32m----> 3\u001b[0;31m     \u001b[0mdata_to_pickle\u001b[0m\u001b[0;34m(\u001b[0m\u001b[0mi\u001b[0m\u001b[0;34m)\u001b[0m\u001b[0;34m\u001b[0m\u001b[0;34m\u001b[0m\u001b[0m\n\u001b[0m",
      "\u001b[0;32m<ipython-input-4-5fce505c57d5>\u001b[0m in \u001b[0;36mdata_to_pickle\u001b[0;34m(hour)\u001b[0m\n\u001b[1;32m      7\u001b[0m     \u001b[0mtime_window_hours\u001b[0m \u001b[0;34m=\u001b[0m \u001b[0;36m1\u001b[0m\u001b[0;34m\u001b[0m\u001b[0;34m\u001b[0m\u001b[0m\n\u001b[1;32m      8\u001b[0m     \u001b[0mtime_window_ms\u001b[0m \u001b[0;34m=\u001b[0m \u001b[0mtime_window_hours\u001b[0m \u001b[0;34m*\u001b[0m \u001b[0;36m60.0\u001b[0m \u001b[0;34m*\u001b[0m \u001b[0;36m60\u001b[0m \u001b[0;34m*\u001b[0m \u001b[0;36m1000\u001b[0m\u001b[0;34m\u001b[0m\u001b[0;34m\u001b[0m\u001b[0m\n\u001b[0;32m----> 9\u001b[0;31m     \u001b[0mmatlab_mat_data\u001b[0m \u001b[0;34m=\u001b[0m \u001b[0meng\u001b[0m\u001b[0;34m.\u001b[0m\u001b[0mgetData\u001b[0m\u001b[0;34m(\u001b[0m\u001b[0mbin_obj\u001b[0m\u001b[0;34m,\u001b[0m \u001b[0mchannels\u001b[0m\u001b[0;34m,\u001b[0m \u001b[0mstartTime_ms\u001b[0m\u001b[0;34m,\u001b[0m \u001b[0mtime_window_ms\u001b[0m\u001b[0;34m)\u001b[0m\u001b[0;34m\u001b[0m\u001b[0;34m\u001b[0m\u001b[0m\n\u001b[0m\u001b[1;32m     10\u001b[0m     \u001b[0mpy_mat\u001b[0m \u001b[0;34m=\u001b[0m \u001b[0mnp\u001b[0m\u001b[0;34m.\u001b[0m\u001b[0marray\u001b[0m\u001b[0;34m(\u001b[0m\u001b[0mmatlab_mat_data\u001b[0m\u001b[0;34m)\u001b[0m \u001b[0;31m#convert the result to python object\u001b[0m\u001b[0;34m\u001b[0m\u001b[0;34m\u001b[0m\u001b[0m\n\u001b[1;32m     11\u001b[0m \u001b[0;34m\u001b[0m\u001b[0m\n",
      "\u001b[0;32m/home/yandex/BrainW2021/projects/ML_Ofir_Eden_Eden/Python_env/liz/lib/python3.7/site-packages/matlab/engine/matlabengine.py\u001b[0m in \u001b[0;36m__call__\u001b[0;34m(self, *args, **kwargs)\u001b[0m\n\u001b[1;32m     69\u001b[0m         \u001b[0;32melse\u001b[0m\u001b[0;34m:\u001b[0m\u001b[0;34m\u001b[0m\u001b[0;34m\u001b[0m\u001b[0m\n\u001b[1;32m     70\u001b[0m             return FutureResult(self._engine(), future, nargs, _stdout,\n\u001b[0;32m---> 71\u001b[0;31m                                 _stderr, feval=True).result()\n\u001b[0m\u001b[1;32m     72\u001b[0m \u001b[0;34m\u001b[0m\u001b[0m\n\u001b[1;32m     73\u001b[0m     \u001b[0;32mdef\u001b[0m \u001b[0m__validate_engine\u001b[0m\u001b[0;34m(\u001b[0m\u001b[0mself\u001b[0m\u001b[0;34m)\u001b[0m\u001b[0;34m:\u001b[0m\u001b[0;34m\u001b[0m\u001b[0;34m\u001b[0m\u001b[0m\n",
      "\u001b[0;32m/home/yandex/BrainW2021/projects/ML_Ofir_Eden_Eden/Python_env/liz/lib/python3.7/site-packages/matlab/engine/futureresult.py\u001b[0m in \u001b[0;36mresult\u001b[0;34m(self, timeout)\u001b[0m\n\u001b[1;32m     65\u001b[0m                 \u001b[0;32mraise\u001b[0m \u001b[0mTypeError\u001b[0m\u001b[0;34m(\u001b[0m\u001b[0mpythonengine\u001b[0m\u001b[0;34m.\u001b[0m\u001b[0mgetMessage\u001b[0m\u001b[0;34m(\u001b[0m\u001b[0;34m'TimeoutCannotBeNegative'\u001b[0m\u001b[0;34m)\u001b[0m\u001b[0;34m)\u001b[0m\u001b[0;34m\u001b[0m\u001b[0;34m\u001b[0m\u001b[0m\n\u001b[1;32m     66\u001b[0m \u001b[0;34m\u001b[0m\u001b[0m\n\u001b[0;32m---> 67\u001b[0;31m         \u001b[0;32mreturn\u001b[0m \u001b[0mself\u001b[0m\u001b[0;34m.\u001b[0m\u001b[0m__future\u001b[0m\u001b[0;34m.\u001b[0m\u001b[0mresult\u001b[0m\u001b[0;34m(\u001b[0m\u001b[0mtimeout\u001b[0m\u001b[0;34m)\u001b[0m\u001b[0;34m\u001b[0m\u001b[0;34m\u001b[0m\u001b[0m\n\u001b[0m\u001b[1;32m     68\u001b[0m \u001b[0;34m\u001b[0m\u001b[0m\n\u001b[1;32m     69\u001b[0m     \u001b[0;32mdef\u001b[0m \u001b[0mcancel\u001b[0m\u001b[0;34m(\u001b[0m\u001b[0mself\u001b[0m\u001b[0;34m)\u001b[0m\u001b[0;34m:\u001b[0m\u001b[0;34m\u001b[0m\u001b[0;34m\u001b[0m\u001b[0m\n",
      "\u001b[0;32m/home/yandex/BrainW2021/projects/ML_Ofir_Eden_Eden/Python_env/liz/lib/python3.7/site-packages/matlab/engine/fevalfuture.py\u001b[0m in \u001b[0;36mresult\u001b[0;34m(self, timeout)\u001b[0m\n\u001b[1;32m     80\u001b[0m                 \u001b[0;32mraise\u001b[0m \u001b[0mTimeoutError\u001b[0m\u001b[0;34m(\u001b[0m\u001b[0mpythonengine\u001b[0m\u001b[0;34m.\u001b[0m\u001b[0mgetMessage\u001b[0m\u001b[0;34m(\u001b[0m\u001b[0;34m'MatlabFunctionTimeout'\u001b[0m\u001b[0;34m)\u001b[0m\u001b[0;34m)\u001b[0m\u001b[0;34m\u001b[0m\u001b[0;34m\u001b[0m\u001b[0m\n\u001b[1;32m     81\u001b[0m \u001b[0;34m\u001b[0m\u001b[0m\n\u001b[0;32m---> 82\u001b[0;31m             \u001b[0mself\u001b[0m\u001b[0;34m.\u001b[0m\u001b[0m_result\u001b[0m \u001b[0;34m=\u001b[0m \u001b[0mpythonengine\u001b[0m\u001b[0;34m.\u001b[0m\u001b[0mgetFEvalResult\u001b[0m\u001b[0;34m(\u001b[0m\u001b[0mself\u001b[0m\u001b[0;34m.\u001b[0m\u001b[0m_future\u001b[0m\u001b[0;34m,\u001b[0m\u001b[0mself\u001b[0m\u001b[0;34m.\u001b[0m\u001b[0m_nargout\u001b[0m\u001b[0;34m,\u001b[0m \u001b[0;32mNone\u001b[0m\u001b[0;34m,\u001b[0m \u001b[0mout\u001b[0m\u001b[0;34m=\u001b[0m\u001b[0mself\u001b[0m\u001b[0;34m.\u001b[0m\u001b[0m_out\u001b[0m\u001b[0;34m,\u001b[0m \u001b[0merr\u001b[0m\u001b[0;34m=\u001b[0m\u001b[0mself\u001b[0m\u001b[0;34m.\u001b[0m\u001b[0m_err\u001b[0m\u001b[0;34m)\u001b[0m\u001b[0;34m\u001b[0m\u001b[0;34m\u001b[0m\u001b[0m\n\u001b[0m\u001b[1;32m     83\u001b[0m             \u001b[0mself\u001b[0m\u001b[0;34m.\u001b[0m\u001b[0m_retrieved\u001b[0m \u001b[0;34m=\u001b[0m \u001b[0;32mTrue\u001b[0m\u001b[0;34m\u001b[0m\u001b[0;34m\u001b[0m\u001b[0m\n\u001b[1;32m     84\u001b[0m             \u001b[0;32mreturn\u001b[0m \u001b[0mself\u001b[0m\u001b[0;34m.\u001b[0m\u001b[0m_result\u001b[0m\u001b[0;34m\u001b[0m\u001b[0;34m\u001b[0m\u001b[0m\n",
      "\u001b[0;31mMatlabExecutionError\u001b[0m: \n  File /home/yandex/BrainW2021/projects/ML_Ofir_Eden_Eden/NET/timeSeriesViewer/dataRecordingObjects/@binaryRecording/binaryRecording.m, line 82, in binaryRecording.getData\nUnable to perform assignment because the size of the left side is 1-by-1-by-17604096 and the size of the right side is 32-by-17604096.\n"
     ]
    }
   ],
   "source": [
    "# save entil error (meaning all data saved)\n",
    "for i in range(300000):\n",
    "    print(i)\n",
    "    data_to_pickle(i)"
   ]
  },
  {
   "cell_type": "code",
   "execution_count": null,
   "id": "72c0985e",
   "metadata": {},
   "outputs": [],
   "source": [
    "# data_to_pickle(0.1)"
   ]
  },
  {
   "cell_type": "code",
   "execution_count": null,
   "id": "05e677bf",
   "metadata": {},
   "outputs": [],
   "source": []
  }
 ],
 "metadata": {
  "kernelspec": {
   "display_name": "Python 3",
   "language": "python",
   "name": "python3"
  },
  "language_info": {
   "codemirror_mode": {
    "name": "ipython",
    "version": 3
   },
   "file_extension": ".py",
   "mimetype": "text/x-python",
   "name": "python",
   "nbconvert_exporter": "python",
   "pygments_lexer": "ipython3",
   "version": "3.7.0"
  }
 },
 "nbformat": 4,
 "nbformat_minor": 5
}
